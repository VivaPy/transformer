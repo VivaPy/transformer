{
 "cells": [
  {
   "cell_type": "code",
   "execution_count": 2,
   "metadata": {},
   "outputs": [],
   "source": [
    "import torch\n",
    "import torch.nn as nn\n",
    "device = \"cuda:0\""
   ]
  },
  {
   "cell_type": "markdown",
   "metadata": {},
   "source": [
    "## 一、词元嵌入模型"
   ]
  },
  {
   "cell_type": "markdown",
   "metadata": {},
   "source": [
    "### 模型实现"
   ]
  },
  {
   "cell_type": "code",
   "execution_count": 21,
   "metadata": {},
   "outputs": [],
   "source": [
    "## 将输入ID序列转换为嵌入向量。\n",
    "class TokenEmbedding(nn.Embedding):\n",
    "    \"\"\"模型参数:\n",
    "    vocab_size: 字典词元个数。\n",
    "    d_mode: token的维度。\n",
    "    \"\"\"\n",
    "    def __init__(self, vocab_size, d_model, device=\"cpu\", padding_idx=1):\n",
    "        \n",
    "        super(TokenEmbedding, self).__init__(vocab_size, d_model, \n",
    "                                             padding_idx=padding_idx, device=device)"
   ]
  },
  {
   "cell_type": "code",
   "execution_count": 22,
   "metadata": {},
   "outputs": [],
   "source": [
    "vocab_size = 100; d_model=64; n_tokens = 10; n_sentences = 3\n",
    "token_embedding = TokenEmbedding(vocab_size, d_model, device=device)"
   ]
  },
  {
   "cell_type": "code",
   "execution_count": 23,
   "metadata": {},
   "outputs": [
    {
     "data": {
      "text/plain": [
       "tensor([[10, 90, 40, 27, 24, 38, 47,  9, 61, 55],\n",
       "        [ 7,  6, 37,  4,  8,  2, 90, 78, 34, 86],\n",
       "        [92, 18, 34,  1, 50, 99, 24, 84, 45, 63]], device='cuda:0')"
      ]
     },
     "execution_count": 23,
     "metadata": {},
     "output_type": "execute_result"
    }
   ],
   "source": [
    "input_ids = torch.randint(0, vocab_size, size=(n_sentences, n_tokens), device=device)\n",
    "input_ids"
   ]
  },
  {
   "cell_type": "code",
   "execution_count": 6,
   "metadata": {},
   "outputs": [
    {
     "data": {
      "text/plain": [
       "torch.Size([3, 10, 64])"
      ]
     },
     "execution_count": 6,
     "metadata": {},
     "output_type": "execute_result"
    }
   ],
   "source": [
    "with torch.no_grad():\n",
    "    embedding_matrix = token_embedding(input_ids)\n",
    "embedding_matrix.size()"
   ]
  },
  {
   "cell_type": "markdown",
   "metadata": {},
   "source": [
    "### 嵌入的细节"
   ]
  },
  {
   "cell_type": "code",
   "execution_count": 7,
   "metadata": {},
   "outputs": [
    {
     "name": "stdout",
     "output_type": "stream",
     "text": [
      "torch.Size([3, 100])\n"
     ]
    },
    {
     "data": {
      "text/plain": [
       "True"
      ]
     },
     "execution_count": 7,
     "metadata": {},
     "output_type": "execute_result"
    }
   ],
   "source": [
    "import torch.nn.functional as F\n",
    "\n",
    "vocab_size = 100; d_model=64; n_tokens = 10; n_sentences = 1\n",
    "## token_embedding.weight.size() = torch.Size([100, 64])\n",
    "\n",
    "input_ids = torch.randint(0, vocab_size, size=(1, 3), device=device).flatten()\n",
    "## input_ids.size() = torch.Size([3])\n",
    "\n",
    "\n",
    "one_hot = F.one_hot(input_ids, num_classes=vocab_size).to(torch.float)\n",
    "print(one_hot.size())\n",
    "torch.equal(one_hot @ token_embedding.weight, token_embedding(input_ids))\n",
    "## tensor(True, device='cuda:0')"
   ]
  },
  {
   "cell_type": "markdown",
   "metadata": {},
   "source": [
    " ## 二、位置嵌入模型"
   ]
  },
  {
   "cell_type": "markdown",
   "metadata": {},
   "source": [
    "### 模型实现"
   ]
  },
  {
   "cell_type": "code",
   "execution_count": 26,
   "metadata": {},
   "outputs": [],
   "source": [
    "class PositionEncoding(nn.Module):\n",
    "\n",
    "    def __init__(self, d_model, max_length, device='cpu'):\n",
    "        super(PositionEncoding, self).__init__()\n",
    "        \n",
    "        ## 对输入序列的位置编码\n",
    "        self.encoding = torch.zeros(max_length, d_model, device=device, \n",
    "                                    requires_grad=False)\n",
    "        \n",
    "        pos = torch.arange(0, max_length, device=device)\n",
    "        pos = pos.float().unsqueeze(dim=1)\n",
    "\n",
    "        ## 对token维度的编码：对每个维度添加位置编码，i对应第i个维度，共d_model个维度。\n",
    "        _2i = torch.arange(0, d_model, step=2, device=device).float()\n",
    "\n",
    "        self.encoding[:, 0::2] = torch.sin(pos / (10000 ** (_2i / d_model)))\n",
    "        self.encoding[:, 1::2] = torch.cos(pos / (10000 ** (_2i / d_model)))\n",
    "    \n",
    "    def forward(self, x):\n",
    "        batch_size, seq_size = x.size()\n",
    "\n",
    "        return self.encoding[:seq_size, :]"
   ]
  },
  {
   "cell_type": "code",
   "execution_count": 20,
   "metadata": {},
   "outputs": [
    {
     "data": {
      "text/plain": [
       "torch.Size([10, 128])"
      ]
     },
     "execution_count": 20,
     "metadata": {},
     "output_type": "execute_result"
    }
   ],
   "source": [
    "d_model = 128; max_length = 128\n",
    "position_embedding = PositionEncoding(d_model, max_length, device)\n",
    "\n",
    "vocab_size = 100; n_tokens = 10; n_sentences = 1\n",
    "x = torch.randint(low=0, high=vocab_size, size=(n_sentences, n_tokens), device=device)\n",
    "position_encoding = position_embedding(x)\n",
    "position_encoding.size()"
   ]
  },
  {
   "cell_type": "markdown",
   "metadata": {},
   "source": [
    "## 三、Transformer的编码器"
   ]
  },
  {
   "cell_type": "code",
   "execution_count": 27,
   "metadata": {},
   "outputs": [],
   "source": [
    "\n",
    "class TransformerEmbedding(nn.Module):\n",
    "\n",
    "    def __init__(self, vocab_size, d_model, max_length, drop_prob=0.1, \n",
    "                 device=\"cpu\", padding_idx=-1):\n",
    "        super(TransformerEmbedding, self).__init__()\n",
    "\n",
    "        self.token_embedding = TokenEmbedding(vocab_size, d_model, \n",
    "                                              device=device, \n",
    "                                              padding_idx=padding_idx)\n",
    "        self.pos_encoding = PositionEncoding(d_model, max_length, device)\n",
    "        self.dropout = nn.Dropout(p=drop_prob)\n",
    "\n",
    "    def forward(self, input_ids):\n",
    "        token_emb = self.token_embedding(input_ids)\n",
    "        pos_encoding = self.pos_encoding(input_ids)\n",
    "        return self.dropout(token_emb + pos_encoding)"
   ]
  },
  {
   "cell_type": "code",
   "execution_count": 29,
   "metadata": {},
   "outputs": [],
   "source": [
    "vocab_size = 100; d_model = 128; max_length = 100; n_tokens = 32; n_sentences = 3\n",
    "tf_emb = TransformerEmbedding(\n",
    "    vocab_size=vocab_size,\n",
    "    d_model=d_model,\n",
    "    max_length=max_length,\n",
    "    device=device\n",
    ")"
   ]
  },
  {
   "cell_type": "code",
   "execution_count": 30,
   "metadata": {},
   "outputs": [],
   "source": [
    "input_ids = torch.randint(0, vocab_size, size=(n_sentences, n_tokens), device=device)"
   ]
  },
  {
   "cell_type": "code",
   "execution_count": null,
   "metadata": {},
   "outputs": [],
   "source": []
  }
 ],
 "metadata": {
  "kernelspec": {
   "display_name": "tfenv",
   "language": "python",
   "name": "python3"
  },
  "language_info": {
   "codemirror_mode": {
    "name": "ipython",
    "version": 3
   },
   "file_extension": ".py",
   "mimetype": "text/x-python",
   "name": "python",
   "nbconvert_exporter": "python",
   "pygments_lexer": "ipython3",
   "version": "3.10.14"
  }
 },
 "nbformat": 4,
 "nbformat_minor": 2
}
